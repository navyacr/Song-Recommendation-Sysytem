{
 "cells": [
  {
   "cell_type": "code",
   "execution_count": 1,
   "metadata": {},
   "outputs": [
    {
     "data": {
      "text/plain": [
       "['GridSearchCV',\n",
       " 'KFold',\n",
       " 'LeaveOneOut',\n",
       " 'PredefinedKFold',\n",
       " 'RandomizedSearchCV',\n",
       " 'RepeatedKFold',\n",
       " 'ShuffleSplit',\n",
       " '__all__',\n",
       " '__builtins__',\n",
       " '__cached__',\n",
       " '__doc__',\n",
       " '__file__',\n",
       " '__loader__',\n",
       " '__name__',\n",
       " '__package__',\n",
       " '__path__',\n",
       " '__spec__',\n",
       " 'cross_validate',\n",
       " 'search',\n",
       " 'split',\n",
       " 'train_test_split',\n",
       " 'validation']"
      ]
     },
     "execution_count": 1,
     "metadata": {},
     "output_type": "execute_result"
    }
   ],
   "source": [
    "#Credits Navya Chennagiri Ravikumar\n",
    "#SID: 014352130\n",
    "#Kaggle username: navyacr\n",
    "#RMSE (at the time of writing this report) = 15.67862\n",
    "from surprise import BaselineOnly\n",
    "from surprise import Dataset\n",
    "from surprise import Reader\n",
    "from surprise.model_selection.split import train_test_split\n",
    "from surprise.model_selection import cross_validate, GridSearchCV\n",
    "import pandas as pd\n",
    "import numpy as np\n",
    "import os, io\n",
    "from surprise import KNNBasic, KNNWithMeans\n",
    "from surprise import SVDpp\n",
    "from surprise import SVD\n",
    "from surprise import accuracy\n",
    "from surprise.model_selection import KFold, ShuffleSplit, RepeatedKFold, PredefinedKFold\n",
    "import matplotlib.pyplot as plt\n",
    "import surprise\n",
    "dir(surprise.model_selection)\n"
   ]
  },
  {
   "cell_type": "code",
   "execution_count": 2,
   "metadata": {},
   "outputs": [
    {
     "name": "stdout",
     "output_type": "stream",
     "text": [
      "/kaggle/working\n"
     ]
    }
   ],
   "source": [
    "print (os.getcwd())\n",
    "#print(os.listdir(\"../input/cmpe256-S20-song-recommendation-system/train.csv\"))"
   ]
  },
  {
   "cell_type": "markdown",
   "metadata": {},
   "source": [
    "Reading data from .csv file into the dataframe using pandas read_csv()"
   ]
  },
  {
   "cell_type": "code",
   "execution_count": 3,
   "metadata": {
    "_cell_guid": "79c7e3d0-c299-4dcb-8224-4455121ee9b0",
    "_uuid": "d629ff2d2480ee46fbb7e2d37f6b5fab8052498a"
   },
   "outputs": [
    {
     "data": {
      "text/html": [
       "<div>\n",
       "<style scoped>\n",
       "    .dataframe tbody tr th:only-of-type {\n",
       "        vertical-align: middle;\n",
       "    }\n",
       "\n",
       "    .dataframe tbody tr th {\n",
       "        vertical-align: top;\n",
       "    }\n",
       "\n",
       "    .dataframe thead th {\n",
       "        text-align: right;\n",
       "    }\n",
       "</style>\n",
       "<table border=\"1\" class=\"dataframe\">\n",
       "  <thead>\n",
       "    <tr style=\"text-align: right;\">\n",
       "      <th></th>\n",
       "      <th>User</th>\n",
       "      <th>Track</th>\n",
       "      <th>Rating</th>\n",
       "    </tr>\n",
       "  </thead>\n",
       "  <tbody>\n",
       "    <tr>\n",
       "      <th>0</th>\n",
       "      <td>1</td>\n",
       "      <td>0</td>\n",
       "      <td>27</td>\n",
       "    </tr>\n",
       "    <tr>\n",
       "      <th>1</th>\n",
       "      <td>4</td>\n",
       "      <td>0</td>\n",
       "      <td>10</td>\n",
       "    </tr>\n",
       "    <tr>\n",
       "      <th>2</th>\n",
       "      <td>8</td>\n",
       "      <td>0</td>\n",
       "      <td>30</td>\n",
       "    </tr>\n",
       "    <tr>\n",
       "      <th>3</th>\n",
       "      <td>10</td>\n",
       "      <td>0</td>\n",
       "      <td>30</td>\n",
       "    </tr>\n",
       "    <tr>\n",
       "      <th>4</th>\n",
       "      <td>11</td>\n",
       "      <td>0</td>\n",
       "      <td>14</td>\n",
       "    </tr>\n",
       "  </tbody>\n",
       "</table>\n",
       "</div>"
      ],
      "text/plain": [
       "   User  Track  Rating\n",
       "0     1      0      27\n",
       "1     4      0      10\n",
       "2     8      0      30\n",
       "3    10      0      30\n",
       "4    11      0      14"
      ]
     },
     "execution_count": 3,
     "metadata": {},
     "output_type": "execute_result"
    }
   ],
   "source": [
    "dataframe = pd.read_csv('../input/cmpe256-S20-song-recommendation-system/train.csv')\n",
    "dataframe.head()"
   ]
  },
  {
   "cell_type": "markdown",
   "metadata": {},
   "source": [
    "**Using Surprise library's Reader class**\n",
    "\n",
    "Reader class of the Surprise documentation is used, scale is set from 0 to 100 as expected in the sample output."
   ]
  },
  {
   "cell_type": "code",
   "execution_count": 4,
   "metadata": {},
   "outputs": [
    {
     "data": {
      "text/plain": [
       "surprise.dataset.DatasetAutoFolds"
      ]
     },
     "execution_count": 4,
     "metadata": {},
     "output_type": "execute_result"
    }
   ],
   "source": [
    "#create train set\n",
    "reader = Reader(rating_scale = (0,100))\n",
    "data = Dataset.load_from_df(dataframe, reader)\n",
    "type(data)"
   ]
  },
  {
   "cell_type": "markdown",
   "metadata": {},
   "source": [
    "Training data consists of three columns: **User, Track and Rating**. Dataframe below shows the first five rows of the training data."
   ]
  },
  {
   "cell_type": "code",
   "execution_count": 5,
   "metadata": {},
   "outputs": [
    {
     "data": {
      "text/html": [
       "<div>\n",
       "<style scoped>\n",
       "    .dataframe tbody tr th:only-of-type {\n",
       "        vertical-align: middle;\n",
       "    }\n",
       "\n",
       "    .dataframe tbody tr th {\n",
       "        vertical-align: top;\n",
       "    }\n",
       "\n",
       "    .dataframe thead th {\n",
       "        text-align: right;\n",
       "    }\n",
       "</style>\n",
       "<table border=\"1\" class=\"dataframe\">\n",
       "  <thead>\n",
       "    <tr style=\"text-align: right;\">\n",
       "      <th></th>\n",
       "      <th>User</th>\n",
       "      <th>Track</th>\n",
       "      <th>Rating</th>\n",
       "    </tr>\n",
       "  </thead>\n",
       "  <tbody>\n",
       "    <tr>\n",
       "      <th>0</th>\n",
       "      <td>1</td>\n",
       "      <td>0</td>\n",
       "      <td>27</td>\n",
       "    </tr>\n",
       "    <tr>\n",
       "      <th>1</th>\n",
       "      <td>4</td>\n",
       "      <td>0</td>\n",
       "      <td>10</td>\n",
       "    </tr>\n",
       "    <tr>\n",
       "      <th>2</th>\n",
       "      <td>8</td>\n",
       "      <td>0</td>\n",
       "      <td>30</td>\n",
       "    </tr>\n",
       "    <tr>\n",
       "      <th>3</th>\n",
       "      <td>10</td>\n",
       "      <td>0</td>\n",
       "      <td>30</td>\n",
       "    </tr>\n",
       "    <tr>\n",
       "      <th>4</th>\n",
       "      <td>11</td>\n",
       "      <td>0</td>\n",
       "      <td>14</td>\n",
       "    </tr>\n",
       "  </tbody>\n",
       "</table>\n",
       "</div>"
      ],
      "text/plain": [
       "   User  Track  Rating\n",
       "0     1      0      27\n",
       "1     4      0      10\n",
       "2     8      0      30\n",
       "3    10      0      30\n",
       "4    11      0      14"
      ]
     },
     "execution_count": 5,
     "metadata": {},
     "output_type": "execute_result"
    }
   ],
   "source": [
    "dataframe.head()"
   ]
  },
  {
   "cell_type": "markdown",
   "metadata": {},
   "source": [
    "**Data visulization**\n",
    "\n",
    "The train set has 47856 users, 184 tracks and 101 ratings(i.e., 0 to 100).\n",
    "The shape of this dataset is (150999, 3), which implies that most of the users have rated multiple tracks.\n",
    "Therefore the train data can be analysed in three ways:\n",
    "\n",
    "1. Ratings pattern\n",
    "\n",
    "2. User based rating distribution\n",
    "\n",
    "3. Item (Track) based rating distribution\n"
   ]
  },
  {
   "cell_type": "code",
   "execution_count": 6,
   "metadata": {},
   "outputs": [
    {
     "name": "stdout",
     "output_type": "stream",
     "text": [
      "No. of Unique Users    : 47856\n",
      "No. of Unique tracks : 184\n",
      "No. of Unique Ratings  : 101\n",
      "Dataset shape: (150999, 3)\n"
     ]
    }
   ],
   "source": [
    "print('No. of Unique Users    :', dataframe.User.nunique())\n",
    "print('No. of Unique tracks :', dataframe.Track.nunique())\n",
    "print('No. of Unique Ratings  :', dataframe.Rating.nunique())\n",
    "print('Dataset shape: {}'.format(dataframe.shape))"
   ]
  },
  {
   "cell_type": "markdown",
   "metadata": {},
   "source": [
    "**1. Ratings Pattern**\n",
    "\n",
    "Analysis of the ratings based on its frequency. A plot of ratings vs frequency is implemented below.\n"
   ]
  },
  {
   "cell_type": "code",
   "execution_count": 7,
   "metadata": {},
   "outputs": [
    {
     "name": "stdout",
     "output_type": "stream",
     "text": [
      "Frequently given ratings:\n",
      "   Ratings  No. of ratings\n",
      "0       30            7625\n",
      "1       29            7018\n",
      "2       10            6234\n",
      "3       49            5976\n",
      "4        9            5693\n",
      "Rarely given ratings:\n",
      "     Ratings  No. of ratings\n",
      "96        96             160\n",
      "97         0             155\n",
      "98        82             148\n",
      "99        95             142\n",
      "100       98             121\n"
     ]
    }
   ],
   "source": [
    "freq = dataframe['Rating'].value_counts().sort_values(ascending=False)\n",
    "type(freq)\n",
    "y_r =freq.values\n",
    "x_r = freq.index\n",
    "\n",
    "freq_df=pd.DataFrame({'Ratings':pd.Series(x_r),'No. of ratings':pd.Series(y_r) })\n",
    "print('Frequently given ratings:')\n",
    "print(freq_df.head())\n",
    "print('Rarely given ratings:')\n",
    "print(freq_df.tail(5))"
   ]
  },
  {
   "cell_type": "code",
   "execution_count": 8,
   "metadata": {},
   "outputs": [
    {
     "data": {
      "image/png": "[encoded data removed]",
      "text/plain": [
       "<Figure size 432x288 with 1 Axes>"
      ]
     },
     "metadata": {
      "needs_background": "light"
     },
     "output_type": "display_data"
    }
   ],
   "source": [
    "plt.ylabel('Frequency of ratings')\n",
    "plt.xlabel('Ratings')\n",
    "plt.bar(x_r, y_r)\n",
    "plt.show()"
   ]
  },
  {
   "cell_type": "markdown",
   "metadata": {},
   "source": [
    "From the above graph we can observe that nearly 20% of the total users have given their ratings in the range of 30 to 50. The number of users who rated extremely low (0 - 5) or high (95 - 100) are very few when compared to the overall destribution of the ratings."
   ]
  },
  {
   "cell_type": "markdown",
   "metadata": {},
   "source": [
    "**2.User based rating distribution**\n",
    "\n",
    "Splitting the data into groups based on the 'User' criteria using dataframe.groupby() function. There are 47856 unique users, this results in 47856 groups corresponding to each user and number of ratings give by the user.\n"
   ]
  },
  {
   "cell_type": "code",
   "execution_count": 9,
   "metadata": {},
   "outputs": [
    {
     "data": {
      "image/png": "[encoded data removed]",
      "text/plain": [
       "<Figure size 432x288 with 1 Axes>"
      ]
     },
     "metadata": {
      "needs_background": "light"
     },
     "output_type": "display_data"
    }
   ],
   "source": [
    "user_data = dataframe.groupby('User')['Rating'].count()\n",
    "x_u = user_data.index\n",
    "y_u = user_data.values\n",
    "plt.xlabel('user')\n",
    "plt.ylabel('No of ratings')\n",
    "plt.bar(x_u, y_u)\n",
    "plt.show()"
   ]
  },
  {
   "cell_type": "code",
   "execution_count": 10,
   "metadata": {},
   "outputs": [
    {
     "name": "stdout",
     "output_type": "stream",
     "text": [
      "Users who rated the most no. of tracks:\n",
      " User\n",
      "32882    13\n",
      "32204    13\n",
      "32898    13\n",
      "32709    13\n",
      "32463    13\n",
      "33069    13\n",
      "32862    12\n",
      "32586    12\n",
      "32404    12\n",
      "33169    12\n",
      "Name: Rating, dtype: int64\n",
      "Users who rated the least no. of tracks :\n",
      " User\n",
      "9907     1\n",
      "9937     1\n",
      "28979    1\n",
      "9926     1\n",
      "29036    1\n",
      "29043    1\n",
      "9919     1\n",
      "9916     1\n",
      "9908     1\n",
      "0        1\n",
      "Name: Rating, dtype: int64\n"
     ]
    }
   ],
   "source": [
    "print('Users who rated the most no. of tracks:\\n',user_data.sort_values(ascending=False)[:10])\n",
    "print('Users who rated the least no. of tracks :\\n',user_data.sort_values(ascending=False)[47846:])"
   ]
  },
  {
   "cell_type": "markdown",
   "metadata": {},
   "source": [
    "From this destribution we can conclude that the most active user has rated 13 tracks. Each user has rated atleast one track."
   ]
  },
  {
   "cell_type": "markdown",
   "metadata": {},
   "source": [
    "**3. Item(track) based ratings distribution**\n",
    "\n",
    "Grouping based on the tracks. There are 184 uniques tracks, resulting in 184 groups and the number of ratings received by each track."
   ]
  },
  {
   "cell_type": "code",
   "execution_count": 11,
   "metadata": {},
   "outputs": [
    {
     "data": {
      "image/png": "[encoded data removed]",
      "text/plain": [
       "<Figure size 432x288 with 1 Axes>"
      ]
     },
     "metadata": {
      "needs_background": "light"
     },
     "output_type": "display_data"
    }
   ],
   "source": [
    "track_data = dataframe.groupby('Track')['Rating'].count()\n",
    "x_t = track_data.index\n",
    "y_t = track_data.values\n",
    "plt.xlabel('Track')\n",
    "plt.ylabel('No of ratings')\n",
    "plt.bar(x_t, y_t)\n",
    "plt.show()"
   ]
  },
  {
   "cell_type": "code",
   "execution_count": 12,
   "metadata": {},
   "outputs": [
    {
     "name": "stdout",
     "output_type": "stream",
     "text": [
      "Tracks receiving most number of ratings:\n",
      " Track\n",
      "12    2218\n",
      "11    2201\n",
      "85    2001\n",
      "48    1930\n",
      "22    1803\n",
      "1     1678\n",
      "52    1246\n",
      "53    1246\n",
      "54    1237\n",
      "55    1209\n",
      "Name: Rating, dtype: int64\n",
      "Tracks receiving least number of ratings:\n",
      " Track\n",
      "41    118\n",
      "39    116\n",
      "43    112\n",
      "42    106\n",
      "Name: Rating, dtype: int64\n"
     ]
    }
   ],
   "source": [
    "print('Tracks receiving most number of ratings:\\n',track_data.sort_values(ascending=False)[:10])\n",
    "print('Tracks receiving least number of ratings:\\n',track_data.sort_values(ascending=False)[180:])"
   ]
  },
  {
   "cell_type": "markdown",
   "metadata": {},
   "source": [
    "According to this analysis, track with most ratings is track-12 with 2218 ratings.\n",
    "Track with lease rating is track-42 with 106 ratings."
   ]
  },
  {
   "cell_type": "markdown",
   "metadata": {},
   "source": [
    "**Surprise Library for Rating Prediction**\n",
    "\n",
    "Variuos Surprise library models BaselineOnly, KNNBaseline, KNNBasic, KNNWithMeans, NMF, SVD and SVDpp were implemented and tested for the train data. Upon evaluating based on the RMSE, SVD yielded better results.\n",
    "\n",
    "Parameter tuning for SVD model was made using GridSearchCV, the best parameter set obtained was (n_factors=100, reg_all= 0.001, lr_all=0.004, n_epochs=100)\n",
    "\n",
    "The model was further evaluated using various cross-validation iterators like KFold, RepeatedKFold and ShuffleSplit. Model predicted better when evaluated using RepeatedKFold.This is because RepeatedKFold croos validator repeats K-Fold 'n' times with different randomization in each repetition.\n",
    " "
   ]
  },
  {
   "cell_type": "code",
   "execution_count": 13,
   "metadata": {},
   "outputs": [
    {
     "name": "stdout",
     "output_type": "stream",
     "text": [
      "RMSE: 16.2030\n",
      "RMSE: 16.2503\n",
      "RMSE: 16.4686\n",
      "RMSE: 15.8831\n",
      "RMSE: 16.1959\n",
      "RMSE: 16.3207\n",
      "RMSE: 16.1519\n",
      "RMSE: 16.4551\n",
      "RMSE: 16.4280\n",
      "RMSE: 16.4314\n",
      "RMSE: 15.9896\n",
      "RMSE: 16.4479\n",
      "RMSE: 16.2350\n",
      "RMSE: 16.1048\n",
      "RMSE: 16.1832\n",
      "RMSE: 16.5531\n",
      "RMSE: 16.3376\n",
      "RMSE: 16.1083\n",
      "RMSE: 16.2583\n",
      "RMSE: 16.1600\n",
      "RMSE: 16.3801\n",
      "RMSE: 16.1877\n",
      "RMSE: 15.8837\n",
      "RMSE: 16.3580\n",
      "RMSE: 16.4406\n",
      "RMSE: 16.2063\n",
      "RMSE: 16.3363\n",
      "RMSE: 16.3820\n",
      "RMSE: 16.4017\n",
      "RMSE: 16.0787\n",
      "RMSE: 16.5394\n",
      "RMSE: 16.2108\n",
      "RMSE: 15.9880\n",
      "RMSE: 16.2167\n",
      "RMSE: 16.4130\n",
      "RMSE: 16.1058\n",
      "RMSE: 16.3667\n",
      "RMSE: 16.0522\n",
      "RMSE: 16.3950\n",
      "RMSE: 16.4080\n",
      "RMSE: 15.9875\n",
      "RMSE: 16.2035\n",
      "RMSE: 16.3805\n",
      "RMSE: 16.2572\n",
      "RMSE: 16.2221\n",
      "RMSE: 16.3071\n",
      "RMSE: 16.4555\n",
      "RMSE: 16.6382\n",
      "RMSE: 16.0675\n",
      "RMSE: 16.1618\n",
      "RMSE: 16.4056\n",
      "RMSE: 16.0847\n",
      "RMSE: 16.0393\n",
      "RMSE: 16.3112\n",
      "RMSE: 16.0677\n",
      "RMSE: 16.1956\n",
      "RMSE: 16.3434\n",
      "RMSE: 16.1231\n",
      "RMSE: 16.3741\n",
      "RMSE: 16.1238\n",
      "RMSE: 16.3452\n",
      "RMSE: 16.3337\n",
      "RMSE: 16.3154\n",
      "RMSE: 16.4157\n",
      "RMSE: 16.0989\n",
      "RMSE: 16.3205\n",
      "RMSE: 16.1959\n",
      "RMSE: 16.0784\n",
      "RMSE: 15.9820\n",
      "RMSE: 16.0266\n",
      "RMSE: 16.2781\n",
      "RMSE: 15.9933\n",
      "RMSE: 16.3006\n",
      "RMSE: 16.2246\n",
      "RMSE: 16.5821\n",
      "RMSE: 16.0547\n",
      "RMSE: 16.1330\n",
      "RMSE: 16.0281\n",
      "RMSE: 16.3620\n",
      "RMSE: 16.3909\n",
      "RMSE: 16.0711\n",
      "RMSE: 16.2786\n",
      "RMSE: 16.3182\n",
      "RMSE: 16.3802\n",
      "RMSE: 16.4045\n",
      "RMSE: 16.2083\n",
      "RMSE: 16.1430\n",
      "RMSE: 16.2042\n",
      "RMSE: 16.0728\n",
      "RMSE: 16.1359\n",
      "RMSE: 16.3725\n",
      "RMSE: 16.3768\n",
      "RMSE: 16.4319\n",
      "RMSE: 16.0049\n",
      "RMSE: 16.0573\n",
      "RMSE: 16.4229\n",
      "RMSE: 16.3697\n",
      "RMSE: 16.3724\n",
      "RMSE: 16.1099\n",
      "RMSE: 16.3632\n",
      "RMSE: 16.3788\n",
      "RMSE: 16.1681\n",
      "RMSE: 16.2716\n",
      "RMSE: 16.1553\n",
      "RMSE: 16.4853\n",
      "RMSE: 16.4051\n",
      "RMSE: 16.1070\n",
      "RMSE: 16.5794\n",
      "RMSE: 16.2182\n",
      "RMSE: 16.3228\n",
      "RMSE: 16.1261\n",
      "RMSE: 16.0694\n",
      "RMSE: 16.0969\n",
      "RMSE: 16.4097\n",
      "RMSE: 15.9565\n",
      "RMSE: 16.1690\n",
      "RMSE: 16.0755\n",
      "RMSE: 16.3804\n",
      "RMSE: 16.2892\n",
      "RMSE: 16.4898\n",
      "RMSE: 16.1066\n",
      "RMSE: 16.3901\n",
      "RMSE: 16.0879\n",
      "RMSE: 16.0420\n",
      "RMSE: 16.0510\n",
      "RMSE: 16.1200\n",
      "RMSE: 16.1667\n",
      "RMSE: 16.3422\n",
      "RMSE: 16.2146\n",
      "RMSE: 16.1873\n",
      "RMSE: 16.4212\n",
      "RMSE: 16.3301\n",
      "RMSE: 16.6209\n",
      "RMSE: 15.9899\n",
      "RMSE: 16.2810\n",
      "RMSE: 16.2979\n",
      "RMSE: 16.2318\n",
      "RMSE: 16.3438\n",
      "RMSE: 16.3831\n",
      "RMSE: 16.4162\n",
      "RMSE: 16.2616\n",
      "RMSE: 16.2082\n",
      "RMSE: 16.0740\n",
      "RMSE: 16.2630\n",
      "RMSE: 16.1795\n",
      "RMSE: 16.4699\n",
      "RMSE: 16.1937\n",
      "RMSE: 16.2440\n",
      "RMSE: 16.1974\n",
      "RMSE: 16.4964\n",
      "RMSE: 16.3767\n",
      "RMSE: 16.0737\n",
      "RMSE: 16.3572\n",
      "RMSE: 16.4077\n",
      "RMSE: 16.2641\n",
      "RMSE: 16.2807\n",
      "RMSE: 16.1383\n",
      "RMSE: 16.1213\n",
      "RMSE: 16.1778\n",
      "RMSE: 16.1019\n",
      "RMSE: 16.5073\n",
      "RMSE: 16.4139\n",
      "RMSE: 16.0944\n",
      "RMSE: 16.0026\n",
      "RMSE: 16.3829\n",
      "RMSE: 16.0898\n",
      "RMSE: 16.0428\n",
      "RMSE: 16.4325\n",
      "RMSE: 16.3214\n",
      "RMSE: 16.4687\n",
      "RMSE: 16.2540\n",
      "RMSE: 16.1486\n",
      "RMSE: 16.2853\n",
      "RMSE: 16.3952\n",
      "RMSE: 16.0519\n",
      "RMSE: 16.2205\n",
      "RMSE: 16.0950\n",
      "RMSE: 16.4849\n",
      "RMSE: 16.4330\n",
      "RMSE: 16.0633\n",
      "RMSE: 16.4514\n",
      "RMSE: 16.1626\n",
      "RMSE: 15.9773\n",
      "RMSE: 16.2033\n",
      "RMSE: 16.3078\n",
      "RMSE: 16.1897\n",
      "RMSE: 15.9979\n",
      "RMSE: 16.2395\n",
      "RMSE: 16.0372\n",
      "RMSE: 16.2670\n",
      "RMSE: 16.4432\n",
      "RMSE: 16.2021\n",
      "RMSE: 16.3678\n",
      "RMSE: 16.2331\n",
      "RMSE: 16.4955\n",
      "RMSE: 15.9239\n",
      "RMSE: 16.1797\n",
      "RMSE: 16.6201\n",
      "RMSE: 16.4460\n",
      "RMSE: 16.4203\n"
     ]
    }
   ],
   "source": [
    "#SVD Matrix Factorization\n",
    "algo = SVD(n_factors=150, reg_all= 0.001, lr_all=0.002, n_epochs=120) \n",
    "# set of optimized parameters\n",
    "\n",
    "kf = RepeatedKFold(n_splits = 20)\n",
    "\n",
    "for trainset, testset in kf.split(data):\n",
    "    # train and test\n",
    "    algo.fit(trainset)\n",
    "    predictions = algo.test(testset)\n",
    "    accuracy.rmse(predictions, verbose=True)"
   ]
  },
  {
   "cell_type": "markdown",
   "metadata": {},
   "source": [
    "Training the model built with the whole train data"
   ]
  },
  {
   "cell_type": "code",
   "execution_count": 14,
   "metadata": {},
   "outputs": [
    {
     "data": {
      "text/plain": [
       "<surprise.prediction_algorithms.matrix_factorization.SVD at 0x7fd031ec4c50>"
      ]
     },
     "execution_count": 14,
     "metadata": {},
     "output_type": "execute_result"
    }
   ],
   "source": [
    "# Training with the whole train data\n",
    "\n",
    "algo.fit(data.build_full_trainset())"
   ]
  },
  {
   "cell_type": "markdown",
   "metadata": {},
   "source": [
    "Raeding .csv file into the dataframe"
   ]
  },
  {
   "cell_type": "code",
   "execution_count": 15,
   "metadata": {},
   "outputs": [
    {
     "data": {
      "text/html": [
       "<div>\n",
       "<style scoped>\n",
       "    .dataframe tbody tr th:only-of-type {\n",
       "        vertical-align: middle;\n",
       "    }\n",
       "\n",
       "    .dataframe tbody tr th {\n",
       "        vertical-align: top;\n",
       "    }\n",
       "\n",
       "    .dataframe thead th {\n",
       "        text-align: right;\n",
       "    }\n",
       "</style>\n",
       "<table border=\"1\" class=\"dataframe\">\n",
       "  <thead>\n",
       "    <tr style=\"text-align: right;\">\n",
       "      <th></th>\n",
       "      <th>User</th>\n",
       "      <th>Track</th>\n",
       "    </tr>\n",
       "  </thead>\n",
       "  <tbody>\n",
       "    <tr>\n",
       "      <th>0</th>\n",
       "      <td>466</td>\n",
       "      <td>0</td>\n",
       "    </tr>\n",
       "    <tr>\n",
       "      <th>1</th>\n",
       "      <td>1173</td>\n",
       "      <td>0</td>\n",
       "    </tr>\n",
       "    <tr>\n",
       "      <th>2</th>\n",
       "      <td>566</td>\n",
       "      <td>1</td>\n",
       "    </tr>\n",
       "    <tr>\n",
       "      <th>3</th>\n",
       "      <td>49</td>\n",
       "      <td>3</td>\n",
       "    </tr>\n",
       "    <tr>\n",
       "      <th>4</th>\n",
       "      <td>772</td>\n",
       "      <td>3</td>\n",
       "    </tr>\n",
       "  </tbody>\n",
       "</table>\n",
       "</div>"
      ],
      "text/plain": [
       "   User  Track\n",
       "0   466      0\n",
       "1  1173      0\n",
       "2   566      1\n",
       "3    49      3\n",
       "4   772      3"
      ]
     },
     "execution_count": 15,
     "metadata": {},
     "output_type": "execute_result"
    }
   ],
   "source": [
    "test = pd.read_csv('../input/cmpe256-S20-song-recommendation-system/test.csv')\n",
    "test.head()"
   ]
  },
  {
   "cell_type": "markdown",
   "metadata": {},
   "source": [
    "**Creating a dataframe in the required format**\n",
    "Using the list test_id to store the concatenated result of 'User'-'Track' and test_result to store the respective predicted ratings. These two lists are further used to create a dataframe of shape [31145 rows x 2 columns]."
   ]
  },
  {
   "cell_type": "code",
   "execution_count": 16,
   "metadata": {},
   "outputs": [],
   "source": [
    "test_result = []\n",
    "test_id = []\n",
    "for each, record in test.iterrows():\n",
    "    #concatenating user-track\n",
    "    test_id.append(str((record['User']))+'-'+str((record['Track'])))\n",
    "    test_result.append(algo.predict(record['User'], record['Track']).est)"
   ]
  },
  {
   "cell_type": "code",
   "execution_count": 17,
   "metadata": {},
   "outputs": [
    {
     "name": "stdout",
     "output_type": "stream",
     "text": [
      "              Id     Rating\n",
      "0          466-0  50.283787\n",
      "1         1173-0  41.756641\n",
      "2          566-1  39.700611\n",
      "3           49-3  31.646270\n",
      "4          772-3  27.076726\n",
      "...          ...        ...\n",
      "31140  46567-170  12.124541\n",
      "31141  46298-171  26.229316\n",
      "31142  47876-172  41.812482\n",
      "31143  48004-172  30.670676\n",
      "31144  50143-182  45.568120\n",
      "\n",
      "[31145 rows x 2 columns]\n"
     ]
    }
   ],
   "source": [
    "#converting list to dataframe\n",
    "final_result=pd.DataFrame({'Id':pd.Series(test_id),'Rating':pd.Series(test_result) })\n",
    "print(final_result)\n",
    "\n"
   ]
  },
  {
   "cell_type": "code",
   "execution_count": 18,
   "metadata": {},
   "outputs": [],
   "source": [
    "#Coverting pandas dataframe to csv\n",
    "final_result.to_csv('predictions_repeated.csv',index=False)"
   ]
  },
  {
   "cell_type": "markdown",
   "metadata": {},
   "source": [
    "**References**\n",
    "\n",
    "https://surprise.readthedocs.io/en/stable/prediction_algorithms_package.html\n",
    "https://matplotlib.org/3.2.1/api/_as_gen/matplotlib.pyplot.plot.html\n",
    "https://www.geeksforgeeks.org/create-a-pandas-dataframe-from-lists/\n",
    "https://www.geeksforgeeks.org/python-pandas-dataframe-groupby/\n",
    "https://surprise.readthedocs.io/en/stable/model_selection.html"
   ]
  }
 ],
 "metadata": {
  "kernelspec": {
   "display_name": "Python 3",
   "language": "python",
   "name": "python3"
  },
  "language_info": {
   "codemirror_mode": {
    "name": "ipython",
    "version": 3
   },
   "file_extension": ".py",
   "mimetype": "text/x-python",
   "name": "python",
   "nbconvert_exporter": "python",
   "pygments_lexer": "ipython3",
   "version": "3.7.3"
  }
 },
 "nbformat": 4,
 "nbformat_minor": 4
}
